{
  "nbformat": 4,
  "nbformat_minor": 0,
  "metadata": {
    "colab": {
      "provenance": [],
      "include_colab_link": true
    },
    "kernelspec": {
      "name": "python3",
      "display_name": "Python 3"
    },
    "language_info": {
      "name": "python"
    }
  },
  "cells": [
    {
      "cell_type": "markdown",
      "metadata": {
        "id": "view-in-github",
        "colab_type": "text"
      },
      "source": [
        "<a href=\"https://colab.research.google.com/github/DaniDiazTech/MetNumUN2024I/blob/main/Quiz9.2/dandiazgo_Quiz9_2.ipynb\" target=\"_parent\"><img src=\"https://colab.research.google.com/assets/colab-badge.svg\" alt=\"Open In Colab\"/></a>"
      ]
    },
    {
      "cell_type": "markdown",
      "source": [
        "### Cramer by hand\n",
        "\n",
        "$$A = \\left[\n",
        "  \\begin{array}{cc}\n",
        "1 & 2\\\\\n",
        "3 & 4\n",
        "\\end{array}\n",
        "\\right],  \n",
        "b= \\left[\n",
        "\\begin{array}{c}\n",
        "5\\\\\n",
        "6\n",
        "\\end{array}\n",
        "\\right]\n",
        "$$\n",
        "$$\n",
        "Ax =B\n",
        "$$\n",
        "$$  \n",
        "\\left[\n",
        "  \\begin{array}{cc}\n",
        "1 & 2\\\\\n",
        "3 & 4\n",
        "\\end{array}\n",
        "\\right]\n",
        "\\left[\n",
        "\\begin{array}{c}\n",
        "x_1\\\\\n",
        "x_2\n",
        "\\end{array}\n",
        "\\right]  \n",
        "=\n",
        "\\left[\n",
        "\\begin{array}{c}\n",
        "5\\\\\n",
        "6\n",
        "\\end{array}\n",
        "\\right]\n",
        "$$\n",
        "\n",
        "$$Det\\ A =  (1 * 4) - (3 * 2)  = 4 - 6 = -2$$\n",
        "\n",
        "$$A_1 = \\left[\n",
        "  \\begin{array}{cc}\n",
        "5 & 2\\\\\n",
        "6 & 4\n",
        "\\end{array}\n",
        "\\right]\n",
        "$$\n",
        "\n",
        "$$Det\\ A_1 = (5 * 4) - (6 * 2) = 20 - 12 =  8$$\n",
        "\n",
        "$$x_1 =  \\frac{Det\\ A_1}{Det\\ A}= \\frac{8}{-2} =  -4$$\n",
        "\n",
        "$$A_2 = \\left[\n",
        "  \\begin{array}{cc}\n",
        "1 & 5\\\\\n",
        "3 & 6\n",
        "\\end{array}\n",
        "\\right]\n",
        "$$\n",
        "\n",
        "$$Det\\ A_2 = (1*6) - (3*5)  = 6 -15 = -9$$\n",
        "\n",
        "$$x_2 = \\frac{Det\\ A_2}{Det\\ A}= \\frac{-9}{-2} =  \\frac{9}{2}$$"
      ],
      "metadata": {
        "id": "SUmNm2PmfHU7"
      }
    },
    {
      "cell_type": "markdown",
      "source": [
        "- ***Adding a single digit to any number requires about 7.30 bits of processing.\n",
        "\n",
        "*   List item\n",
        "*   List item\n",
        "\n",
        "*** - World Mental Calculation: News and Resources for Competitive and Advanced Mental Calculation https://worldmentalcalculation.com/2019/06/30/fastest-possible-processing-speed-of-the-human-brain/\n",
        "\n",
        "- ***The human brain can process 11 million bits of information every second. But our conscious minds can handle only 40 to 50 bits of information a second.*** - Understanding Unconscious Bias https://www.npr.org/2020/07/14/891140598/understanding-unconscious-bias\n",
        "\n",
        "- ***A new way to analyze human reaction times shows that the brain processes data no faster than 60 bits per second.***- New Measure of Human Brain Processing Speed https://www.technologyreview.com/2009/08/25/210267/new-measure-of-human-brain-processing-speed/\n",
        "\n",
        "\n"
      ],
      "metadata": {
        "id": "3rH8z64pk2XV"
      }
    },
    {
      "cell_type": "markdown",
      "source": [
        "# Number of operations to compute a determinant by cofactor expasion\n",
        "- Cofactor expansion https://people.math.carleton.ca/~kcheung/math/notes/MATH1107/07/07_cofactor_expansion.html\n",
        "## Definition of A(i∣j)\n",
        "Let $A$ be an $n\\times n$ matrix. Let $i,j \\in \\{1,…,n\\}$. We define $A(i∣j)$  to be the matrix obtained from $A$ by removing row $i$ and column $j$ from $A$.\n",
        "\n",
        "## Cofactor formula\n",
        "One way of computing the determinant of an $n\\times n$  matrix\n",
        "\n",
        "$$A = \\left[\n",
        "  \\begin{array}{cccc}\n",
        "a_{11} & a_{12} & \\cdots & a_{1n}\\\\\n",
        "a_{21} & a_{22} & \\cdots & a_{2n}\\\\\n",
        "\\vdots  & \\vdots & \\ddots & \\vdots\\\\\n",
        "a_{n1} & a_{n2} & \\cdots & a_{nn}\\\\\n",
        "\\end{array}\n",
        "\\right]\n",
        "$$\n",
        "is to use the following formula called the cofactor formula.\n",
        "\n",
        "Pick either any $i\\ \\in \\{1,…,n\\}$ (fixed row) or $i\\ \\in \\{1,…,n\\}$ (fixed column). Then\n",
        "\n",
        "$$\\det(A)  = \\sum_{j=1}^n (-1)^{i+j}a_{ij} \\det(A(i∣j)) $$\n",
        "\n",
        "\n",
        "$C_{i,j}= (-1)^{i+j}a_{ij} \\det(A(i∣j))$ is called a cofactor of $A$.\n",
        "\n",
        "$$\\det(A)  = \\sum_{j=1}^n C_{i,j} $$\n",
        "\n"
      ],
      "metadata": {
        "id": "CgrSIpDOnaGQ"
      }
    },
    {
      "cell_type": "code",
      "source": [
        "# Code from https://stackoverflow.com/questions/16510111/computing-determinant-of-a-matrix-nxn-recursively\n",
        "\n",
        "import numpy as np\n",
        "\n",
        "def smaller_matrix(original_matrix,row, column):\n",
        "    for ii in range(len(original_matrix)):\n",
        "        new_matrix=np.delete(original_matrix,ii,0)\n",
        "        new_matrix=np.delete(new_matrix,column,1)\n",
        "        return new_matrix\n",
        "\n",
        "\n",
        "def determinant(matrix):\n",
        "    \"\"\"Returns a determinant of a matrix by recursive method.\"\"\"\n",
        "    (r,c) = matrix.shape\n",
        "    if r != c:\n",
        "        print(\"Error!Not a square matrix!\")\n",
        "        return None\n",
        "    elif r==2:\n",
        "        simple_determinant = matrix[0][0]*matrix[1][1]-matrix[0][1]*matrix[1][0]\n",
        "        return simple_determinant\n",
        "    else:\n",
        "        answer=0\n",
        "        for j in range(r):\n",
        "            cofactor = (-1)**(0+j) * matrix[0][j] * determinant(smaller_matrix(matrix, 0, j))\n",
        "            answer+= cofactor\n",
        "        return answer"
      ],
      "metadata": {
        "id": "J-joKRBhC7eF"
      },
      "execution_count": null,
      "outputs": []
    },
    {
      "cell_type": "code",
      "source": [
        "#test the function\n",
        "#Only works for numpy.array input\n",
        "np.random.seed(1)"
      ],
      "metadata": {
        "id": "Il2pcRD4DptG"
      },
      "execution_count": null,
      "outputs": []
    },
    {
      "cell_type": "code",
      "source": [
        "n = 2\n",
        "matrix=np.random.randint(-5,5,size=(n,n))\n",
        "matrix"
      ],
      "metadata": {
        "colab": {
          "base_uri": "https://localhost:8080/"
        },
        "id": "AgKC1-aiFRW2",
        "outputId": "4a6f1d49-038f-453b-e6dc-0c86d09ce50b"
      },
      "execution_count": null,
      "outputs": [
        {
          "output_type": "execute_result",
          "data": {
            "text/plain": [
              "array([[0, 3],\n",
              "       [4, 0]])"
            ]
          },
          "metadata": {},
          "execution_count": 36
        }
      ]
    },
    {
      "cell_type": "code",
      "source": [
        "determinant(matrix)"
      ],
      "metadata": {
        "colab": {
          "base_uri": "https://localhost:8080/"
        },
        "outputId": "b6848f7f-7ea2-4237-e7eb-b7c21e0ac442",
        "id": "oI0rUp-SDptH"
      },
      "execution_count": null,
      "outputs": [
        {
          "output_type": "execute_result",
          "data": {
            "text/plain": [
              "-12"
            ]
          },
          "metadata": {},
          "execution_count": 37
        }
      ]
    },
    {
      "cell_type": "code",
      "source": [
        "np.linalg.det(matrix)"
      ],
      "metadata": {
        "colab": {
          "base_uri": "https://localhost:8080/"
        },
        "id": "iqZv7iK-KKXH",
        "outputId": "1ce580f8-fe15-4968-f59a-dabafd461420"
      },
      "execution_count": null,
      "outputs": [
        {
          "output_type": "execute_result",
          "data": {
            "text/plain": [
              "-12.0"
            ]
          },
          "metadata": {},
          "execution_count": 38
        }
      ]
    },
    {
      "cell_type": "code",
      "source": [
        "round(np.linalg.det(matrix))"
      ],
      "metadata": {
        "colab": {
          "base_uri": "https://localhost:8080/"
        },
        "id": "sY21rHM-KdlO",
        "outputId": "936f670c-4c9a-4226-83f0-7cd0b00aab62"
      },
      "execution_count": null,
      "outputs": [
        {
          "output_type": "execute_result",
          "data": {
            "text/plain": [
              "-12"
            ]
          },
          "metadata": {},
          "execution_count": 39
        }
      ]
    },
    {
      "cell_type": "code",
      "source": [
        "n = 5\n",
        "matrix=np.diag(np.random.randint(-10,10,size=(n)))\n",
        "matrix"
      ],
      "metadata": {
        "colab": {
          "base_uri": "https://localhost:8080/"
        },
        "id": "-QXGZWFIDs5k",
        "outputId": "a9471c16-ad5e-46c5-aa7f-3d3f4729da9a"
      },
      "execution_count": null,
      "outputs": [
        {
          "output_type": "execute_result",
          "data": {
            "text/plain": [
              "array([[  5,   0,   0,   0,   0],\n",
              "       [  0, -10,   0,   0,   0],\n",
              "       [  0,   0,   6,   0,   0],\n",
              "       [  0,   0,   0,  -9,   0],\n",
              "       [  0,   0,   0,   0,   2]])"
            ]
          },
          "metadata": {},
          "execution_count": 40
        }
      ]
    },
    {
      "cell_type": "code",
      "source": [
        "determinant(matrix)"
      ],
      "metadata": {
        "colab": {
          "base_uri": "https://localhost:8080/"
        },
        "id": "VP6hRwhwD-3W",
        "outputId": "47d106b5-6e20-459a-99f0-e0268d68aa19"
      },
      "execution_count": null,
      "outputs": [
        {
          "output_type": "execute_result",
          "data": {
            "text/plain": [
              "5400"
            ]
          },
          "metadata": {},
          "execution_count": 41
        }
      ]
    },
    {
      "cell_type": "code",
      "source": [
        "np.linalg.det(matrix)"
      ],
      "metadata": {
        "colab": {
          "base_uri": "https://localhost:8080/"
        },
        "id": "8NV7Zvp-KtRz",
        "outputId": "bb51090a-5d60-4a58-af1e-bb0a32901155"
      },
      "execution_count": null,
      "outputs": [
        {
          "output_type": "execute_result",
          "data": {
            "text/plain": [
              "5400.000000000003"
            ]
          },
          "metadata": {},
          "execution_count": 42
        }
      ]
    },
    {
      "cell_type": "code",
      "source": [
        "round(np.linalg.det(matrix))"
      ],
      "metadata": {
        "colab": {
          "base_uri": "https://localhost:8080/"
        },
        "id": "HXKK3weLKt5T",
        "outputId": "6efd5722-21be-4bf9-aa80-bdb4018ded28"
      },
      "execution_count": null,
      "outputs": [
        {
          "output_type": "execute_result",
          "data": {
            "text/plain": [
              "5400"
            ]
          },
          "metadata": {},
          "execution_count": 43
        }
      ]
    },
    {
      "cell_type": "code",
      "source": [
        "# Modified from the previous code\n",
        "import numpy as np\n",
        "\n",
        "# A a squared numpy matrix\n",
        "def det(A):\n",
        "    \"\"\"Returns a determinant of a matrix by recursive method.\"\"\"\n",
        "    (r,c) = A.shape\n",
        "    if r != c:\n",
        "        print(\"Error!Not a square matrix!\")\n",
        "        return None\n",
        "    elif r==1:\n",
        "        return A[0][0]\n",
        "    else:\n",
        "        answer=0\n",
        "        for j in range(r):\n",
        "            s = 1 if (0+j)%2 == 0 else -1\n",
        "            Aij = np.delete(A,0,0)\n",
        "            Aij = np.delete(Aij,j,1)\n",
        "            cofactor = (s) * A[0][j] * det(Aij)\n",
        "            answer+= cofactor\n",
        "        return answer"
      ],
      "metadata": {
        "id": "B258g8lnBgnG"
      },
      "execution_count": null,
      "outputs": []
    },
    {
      "cell_type": "code",
      "source": [
        "#test the function\n",
        "#Only works for numpy.array input\n",
        "np.random.seed(1)"
      ],
      "metadata": {
        "id": "ZR2mjlqiGdM6"
      },
      "execution_count": null,
      "outputs": []
    },
    {
      "cell_type": "code",
      "source": [
        "n = 2\n",
        "A=np.random.randint(-5,5,size=(n,n))\n",
        "A"
      ],
      "metadata": {
        "colab": {
          "base_uri": "https://localhost:8080/"
        },
        "outputId": "f8e053ef-6f63-4732-cc0e-68dd173676be",
        "id": "jPpBCFaoGlak"
      },
      "execution_count": null,
      "outputs": [
        {
          "output_type": "execute_result",
          "data": {
            "text/plain": [
              "array([[0, 3],\n",
              "       [4, 0]])"
            ]
          },
          "metadata": {},
          "execution_count": 46
        }
      ]
    },
    {
      "cell_type": "code",
      "source": [
        "det(A)"
      ],
      "metadata": {
        "colab": {
          "base_uri": "https://localhost:8080/"
        },
        "outputId": "ca2892d8-987e-427f-c947-73ffa892820f",
        "id": "WKbuirZeGlak"
      },
      "execution_count": null,
      "outputs": [
        {
          "output_type": "execute_result",
          "data": {
            "text/plain": [
              "-12"
            ]
          },
          "metadata": {},
          "execution_count": 47
        }
      ]
    },
    {
      "cell_type": "code",
      "source": [
        "determinant(A)"
      ],
      "metadata": {
        "colab": {
          "base_uri": "https://localhost:8080/"
        },
        "id": "_B5xBFirTvQm",
        "outputId": "18f99a50-c687-4086-c75c-25e231427da8"
      },
      "execution_count": null,
      "outputs": [
        {
          "output_type": "execute_result",
          "data": {
            "text/plain": [
              "-12"
            ]
          },
          "metadata": {},
          "execution_count": 48
        }
      ]
    },
    {
      "cell_type": "code",
      "source": [
        "np.linalg.det(A)"
      ],
      "metadata": {
        "colab": {
          "base_uri": "https://localhost:8080/"
        },
        "outputId": "0c754856-639e-4433-fb02-48ece86664a2",
        "id": "bRyF2dsFLbXC"
      },
      "execution_count": null,
      "outputs": [
        {
          "output_type": "execute_result",
          "data": {
            "text/plain": [
              "-12.0"
            ]
          },
          "metadata": {},
          "execution_count": 49
        }
      ]
    },
    {
      "cell_type": "code",
      "source": [
        "round(np.linalg.det(A))"
      ],
      "metadata": {
        "colab": {
          "base_uri": "https://localhost:8080/"
        },
        "outputId": "d4b925dd-0f97-4da6-8a9a-d369f459439b",
        "id": "sOe1w9FPLbXD"
      },
      "execution_count": null,
      "outputs": [
        {
          "output_type": "execute_result",
          "data": {
            "text/plain": [
              "-12"
            ]
          },
          "metadata": {},
          "execution_count": 50
        }
      ]
    },
    {
      "cell_type": "code",
      "source": [
        "n = 10\n",
        "\n",
        "A=np.random.randint(-10,10,size=(n,n))\n",
        "\n",
        "A"
      ],
      "metadata": {
        "colab": {
          "base_uri": "https://localhost:8080/"
        },
        "outputId": "46faaa6c-d029-4710-d49d-a2a6b1401ccd",
        "id": "jzFX1soHGlak"
      },
      "execution_count": null,
      "outputs": [
        {
          "output_type": "execute_result",
          "data": {
            "text/plain": [
              "array([[  5, -10,   6,  -9,   2,  -3,   3,  -4,   8,  -5],\n",
              "       [  8,   1,   0,   4,   8,  -6,  -1,   7, -10,   3],\n",
              "       [ -1,  -1,  -3,  -9, -10,   7,  -2,   3,   9,   5],\n",
              "       [  0,  -2,  -3,  -7,  -4,   7,  -7,  -6,   7,   1],\n",
              "       [  2,   6,   3,   9,  -1,   8,   5, -10,  -6,   5],\n",
              "       [ -8,  -3,  -2,  -1,  -7,  -3,  -6,  -5,   9,  -4],\n",
              "       [ -2, -10,  -8,   0,   5,   5,  -3,   9,   0,   4],\n",
              "       [-10,  -9,   7,   3,  -7, -10,   3,  -4,  -4,  -8],\n",
              "       [  2,   1,  -3,   3,  -2,   1,   2,   1,  -6,  -3],\n",
              "       [ -3,   3,  -6,   6,   8, -10,   3,   0,   7,  -3]])"
            ]
          },
          "metadata": {},
          "execution_count": 51
        }
      ]
    },
    {
      "cell_type": "code",
      "source": [
        "import time\n",
        "\n",
        "start_time = time.time()\n",
        "d = det(A)\n",
        "end_time = time.time()"
      ],
      "metadata": {
        "id": "I97qAqxGGlak"
      },
      "execution_count": null,
      "outputs": []
    },
    {
      "cell_type": "code",
      "source": [
        "print(\"det(A): \",d)\n",
        "print(\"time: \",end_time - start_time)"
      ],
      "metadata": {
        "colab": {
          "base_uri": "https://localhost:8080/"
        },
        "id": "s7Ud-gBiTD0n",
        "outputId": "d1cd119d-e170-46c8-c4ca-ebf432b6d376"
      },
      "execution_count": null,
      "outputs": [
        {
          "output_type": "stream",
          "name": "stdout",
          "text": [
            "det(A):  29129065307\n",
            "time:  77.39920783042908\n"
          ]
        }
      ]
    },
    {
      "cell_type": "code",
      "source": [
        "import time\n",
        "\n",
        "start_time = time.time()\n",
        "d = determinant(A)\n",
        "end_time = time.time()"
      ],
      "metadata": {
        "id": "kjLXFQOeTRd2"
      },
      "execution_count": null,
      "outputs": []
    },
    {
      "cell_type": "code",
      "source": [
        "print(\"determinant(A): \",d)\n",
        "print(\"time: \",end_time - start_time)"
      ],
      "metadata": {
        "colab": {
          "base_uri": "https://localhost:8080/"
        },
        "id": "_TQFWy4ZSiDZ",
        "outputId": "fe3e5383-1786-495a-f474-7ac4cddc5b14"
      },
      "execution_count": null,
      "outputs": [
        {
          "output_type": "stream",
          "name": "stdout",
          "text": [
            "determinant(A):  29129065307\n",
            "time:  35.02712106704712\n"
          ]
        }
      ]
    },
    {
      "cell_type": "code",
      "source": [
        "import time\n",
        "\n",
        "start_time = time.time()\n",
        "d = np.linalg.det(A)\n",
        "end_time = time.time()"
      ],
      "metadata": {
        "id": "jL23i77VT55-"
      },
      "execution_count": null,
      "outputs": []
    },
    {
      "cell_type": "code",
      "source": [
        "print(\"np.linalg.det(A): \",d)\n",
        "print(\"time: \",end_time - start_time)"
      ],
      "metadata": {
        "colab": {
          "base_uri": "https://localhost:8080/"
        },
        "id": "n94nx14VT5wn",
        "outputId": "80a0d002-e9ce-4c14-9604-7b82b86c070c"
      },
      "execution_count": null,
      "outputs": [
        {
          "output_type": "stream",
          "name": "stdout",
          "text": [
            "np.linalg.det(A):  29129065306.99992\n",
            "time:  0.0003056526184082031\n"
          ]
        }
      ]
    },
    {
      "cell_type": "markdown",
      "source": [
        "# Estimating the time by instruction in Python in a Colab machine"
      ],
      "metadata": {
        "id": "Ssedt2z56DNC"
      }
    },
    {
      "cell_type": "code",
      "source": [
        "import numpy as np\n",
        "\n",
        "n = 100\n",
        "\n",
        "A = np.ones((n,n))\n",
        "\n",
        "A"
      ],
      "metadata": {
        "colab": {
          "base_uri": "https://localhost:8080/"
        },
        "id": "1KhlyeNi4uwa",
        "outputId": "daf5a3d5-616d-4811-ef88-17061a45f56b"
      },
      "execution_count": null,
      "outputs": [
        {
          "output_type": "execute_result",
          "data": {
            "text/plain": [
              "array([[1., 1., 1., ..., 1., 1., 1.],\n",
              "       [1., 1., 1., ..., 1., 1., 1.],\n",
              "       [1., 1., 1., ..., 1., 1., 1.],\n",
              "       ...,\n",
              "       [1., 1., 1., ..., 1., 1., 1.],\n",
              "       [1., 1., 1., ..., 1., 1., 1.],\n",
              "       [1., 1., 1., ..., 1., 1., 1.]])"
            ]
          },
          "metadata": {},
          "execution_count": 7
        }
      ]
    },
    {
      "cell_type": "code",
      "source": [
        "B = np.ones((n,n))\n",
        "\n",
        "B"
      ],
      "metadata": {
        "colab": {
          "base_uri": "https://localhost:8080/"
        },
        "id": "RKtHO3UY5M87",
        "outputId": "b4dfe81d-11f8-482a-d2a3-dde69af54aa0"
      },
      "execution_count": null,
      "outputs": [
        {
          "output_type": "execute_result",
          "data": {
            "text/plain": [
              "array([[1., 1., 1., ..., 1., 1., 1.],\n",
              "       [1., 1., 1., ..., 1., 1., 1.],\n",
              "       [1., 1., 1., ..., 1., 1., 1.],\n",
              "       ...,\n",
              "       [1., 1., 1., ..., 1., 1., 1.],\n",
              "       [1., 1., 1., ..., 1., 1., 1.],\n",
              "       [1., 1., 1., ..., 1., 1., 1.]])"
            ]
          },
          "metadata": {},
          "execution_count": 8
        }
      ]
    },
    {
      "cell_type": "code",
      "source": [
        "import time\n",
        "\n",
        "C= np.zeros((n,n))\n",
        "\n",
        "start_time = time.time()\n",
        "for i in range(n):\n",
        "        for j in range(n):\n",
        "            C[i][j] = 0\n",
        "            for k in range(len(A[0])):\n",
        "                C[i][j] += A[i][k] * B[k][j]\n",
        "end_time = time.time()\n",
        "print(end_time - start_time)"
      ],
      "metadata": {
        "colab": {
          "base_uri": "https://localhost:8080/"
        },
        "id": "0UFSLi-F5P0a",
        "outputId": "991b45a0-9644-42b6-f6b0-6c2d89520013"
      },
      "execution_count": null,
      "outputs": [
        {
          "output_type": "stream",
          "name": "stdout",
          "text": [
            "1.1359033584594727\n"
          ]
        }
      ]
    },
    {
      "cell_type": "code",
      "source": [
        "C"
      ],
      "metadata": {
        "colab": {
          "base_uri": "https://localhost:8080/"
        },
        "id": "h9zr4Z9P61bs",
        "outputId": "a629f0aa-0932-4128-c44f-0731d91b4b34"
      },
      "execution_count": null,
      "outputs": [
        {
          "output_type": "execute_result",
          "data": {
            "text/plain": [
              "array([[100., 100., 100., ..., 100., 100., 100.],\n",
              "       [100., 100., 100., ..., 100., 100., 100.],\n",
              "       [100., 100., 100., ..., 100., 100., 100.],\n",
              "       ...,\n",
              "       [100., 100., 100., ..., 100., 100., 100.],\n",
              "       [100., 100., 100., ..., 100., 100., 100.],\n",
              "       [100., 100., 100., ..., 100., 100., 100.]])"
            ]
          },
          "metadata": {},
          "execution_count": 11
        }
      ]
    },
    {
      "cell_type": "code",
      "source": [
        "time_by_operation_python = (end_time - start_time)/(2*n**3 - n**2)\n",
        "\n",
        "time_by_operation_python"
      ],
      "metadata": {
        "colab": {
          "base_uri": "https://localhost:8080/"
        },
        "id": "iEhaMEK77Ko7",
        "outputId": "87d9f92b-7aa0-4bb2-a6f8-3eddb5a52300"
      },
      "execution_count": null,
      "outputs": [
        {
          "output_type": "execute_result",
          "data": {
            "text/plain": [
              "5.708057077685792e-07"
            ]
          },
          "metadata": {},
          "execution_count": 22
        }
      ]
    },
    {
      "cell_type": "code",
      "source": [
        "import time\n",
        "import numpy as np\n",
        "\n",
        "start = time.time()\n",
        "C = A@B\n",
        "end = time.time()\n",
        "print(end - start)"
      ],
      "metadata": {
        "colab": {
          "base_uri": "https://localhost:8080/"
        },
        "id": "TfGsw6UF9o-a",
        "outputId": "c3be2bd3-fb0a-44f4-ea5d-fc1061d743c7"
      },
      "execution_count": null,
      "outputs": [
        {
          "output_type": "stream",
          "name": "stdout",
          "text": [
            "0.001438140869140625\n"
          ]
        }
      ]
    },
    {
      "cell_type": "code",
      "source": [
        "C"
      ],
      "metadata": {
        "colab": {
          "base_uri": "https://localhost:8080/"
        },
        "id": "Q5MtZtVT93oQ",
        "outputId": "3d766f10-d8b4-4635-8f8f-ae6f74b713a9"
      },
      "execution_count": null,
      "outputs": [
        {
          "output_type": "execute_result",
          "data": {
            "text/plain": [
              "array([[100., 100., 100., ..., 100., 100., 100.],\n",
              "       [100., 100., 100., ..., 100., 100., 100.],\n",
              "       [100., 100., 100., ..., 100., 100., 100.],\n",
              "       ...,\n",
              "       [100., 100., 100., ..., 100., 100., 100.],\n",
              "       [100., 100., 100., ..., 100., 100., 100.],\n",
              "       [100., 100., 100., ..., 100., 100., 100.]])"
            ]
          },
          "metadata": {},
          "execution_count": 17
        }
      ]
    },
    {
      "cell_type": "code",
      "source": [
        "time_by_oper_numpy = (end_time - start_time)/(2*n**3 - n**2)\n",
        "\n",
        "time_by_oper_numpy"
      ],
      "metadata": {
        "colab": {
          "base_uri": "https://localhost:8080/"
        },
        "id": "DTVYQYxT-TsJ",
        "outputId": "161f7fd8-f393-4d62-ee3c-5091895c4b32"
      },
      "execution_count": null,
      "outputs": [
        {
          "output_type": "execute_result",
          "data": {
            "text/plain": [
              "7.226838538395101e-10"
            ]
          },
          "metadata": {},
          "execution_count": 25
        }
      ]
    },
    {
      "cell_type": "markdown",
      "source": [
        "# Time estimation for the digital computer computation of a 3 x 3 matrix determinant by cofactor expansion\n",
        "\n",
        "The number of operations $(+,-,*)$ perfomed  *det(A)* algorithm that calculates\n",
        "\n",
        "$$\\det(A)  = \\sum_{j=1}^n (-1)^{i+j}a_{ij} \\det(A(i∣j)) $$\n",
        "\n",
        "is given by\n",
        "\n",
        "$$\\begin{array}{lll}\n",
        "T(n) & =&  nT(n-1) + 5n , T(1) = 1\\\\\n",
        "\\end{array}\n",
        "$$\n",
        "\n",
        "$$\\begin{array}{lll}\n",
        "T(n) & =&  nT(n-1) + 5n\\\\\n",
        "     & =&  n[(n-1) T(n-2) + 5 (n-1) +10] + 5n  \\\\\n",
        "     & =&  n(n-1) T(n-2) + 5 n  (n-1) + 5n \\\\\n",
        "     & =&  n(n-1) [(n-2) T(n-3) + 5 (n-2)] + 5 n(n-1) + 5n\\\\\n",
        "     & = & n(n-1)(n-2) T(n-3) + 5n(n-1)(n-2)+  5 n  (n-1) + 5n \\\\\n",
        "     & \\vdots\\\\\n",
        "     & = &  n(n-1)(n-2)\\cdots (n -(n-2))  T(1) + [5n(n-1)(n-2)(n-3)\\cdots (n -(n-3))] + \\cdots + [5 n (n-1)]+ 5n \\\\\n",
        "    & = & n! + [5n(n-1)(n-2)(n-3)\\cdots 2] + [5n(n-1)(n-2)(n-3)\\cdots 3]+ \\cdots +[5 n (n-1) (n-3)] + [5 n (n-1)]+ 5n  \n",
        "\\end{array}\n",
        "$$\n",
        "\n",
        "$$T(n) = n! + 5 \\sum_{i=0}^{n-1} n!/i! = n! + 5 n!\\sum_{i=0}^{n-1} \\frac{1}{i!} < n! + 5 e n! < 16 n!  $$\n",
        "\n",
        "1. Asumming that an arithmetic operation takes the *time_by_oper_python* estimated before,  what is the maximun square matrix size for which the deteminant can be computed with cofactor extesion in $\\le$ 3 minute. Report the time at [LABCramer](https://docs.google.com/spreadsheets/d/1JNUbuj3QHcyPmp8i6kNreUFucj2mOvKHkCFHHy7zfws/edit?usp=sharing).\n",
        "\n",
        "2. Run an experiment with a random matrix of that size and report the time at [LABCramer](https://docs.google.com/spreadsheets/d/1JNUbuj3QHcyPmp8i6kNreUFucj2mOvKHkCFHHy7zfws/edit?usp=sharing).\n",
        "\n",
        "If the determinant of a $n \\times n$ square matrix takes $16 n!$ operations how much takes the Crammer solution of $n \\times n$ systems of linear equations?\n",
        "\n",
        "\n",
        "\n",
        "\n"
      ],
      "metadata": {
        "id": "PhAai3wzo_Tc"
      }
    },
    {
      "cell_type": "code",
      "source": [
        "import math\n",
        "\n",
        "def cofactor(n):\n",
        "    return math.factorial(n) + 5 * sum(math.factorial(n) // math.factorial(i) for i in range(n))\n",
        "\n",
        "time_by_oper_python = 5.708057077685792e-07\n",
        "\n",
        "tot = 3 * 60\n",
        "n = 1\n",
        "t = 0\n",
        "while t < tot:\n",
        "    t = cofactor(n) * time_by_oper_python\n",
        "    n += 1\n",
        "\n",
        "n-=1\n",
        "print(\"max size:\", n-1)\n",
        "print(\"time:\", cofactor(n-1) * time_by_oper_python)"
      ],
      "metadata": {
        "colab": {
          "base_uri": "https://localhost:8080/"
        },
        "id": "Uh7J6j0T2YIT",
        "outputId": "110ca0fa-73b6-4137-d13e-8c85219c9f58"
      },
      "execution_count": 2,
      "outputs": [
        {
          "output_type": "stream",
          "name": "stdout",
          "text": [
            "max size: 10\n",
            "time: 30.223762662350833\n"
          ]
        }
      ]
    },
    {
      "cell_type": "code",
      "source": [
        "import numpy as np\n",
        "import math\n",
        "import time\n",
        "\n",
        "def det_n(matrix):\n",
        "    n = len(matrix)\n",
        "    if n == 1:\n",
        "        return matrix[0, 0]\n",
        "\n",
        "    det = 0\n",
        "    for j in range(n):\n",
        "        s = (-1)**j\n",
        "        sub = np.delete(matrix, 0, axis=0)\n",
        "        sub = np.delete(sub, j, axis=1)\n",
        "        det += s * matrix[0, j] * det_n(sub)\n",
        "\n",
        "    return det\n",
        "\n",
        "r_m = np.random.randint(1, 10, size=(10, 10))\n",
        "\n",
        "start_time = time.time()\n",
        "determinant = det_n(r_m)\n",
        "end_time = time.time()\n",
        "\n",
        "print(\"determinant:\", determinant)\n",
        "print(\"time:\", end_time - start_time)"
      ],
      "metadata": {
        "colab": {
          "base_uri": "https://localhost:8080/"
        },
        "id": "IpDe-FPh5Oii",
        "outputId": "6cb7c56d-48a9-4e0f-9b0c-7c21d90bd11d"
      },
      "execution_count": 1,
      "outputs": [
        {
          "output_type": "stream",
          "name": "stdout",
          "text": [
            "determinant: 8095218\n",
            "time: 85.33999919891357\n"
          ]
        }
      ]
    },
    {
      "cell_type": "markdown",
      "source": [
        "# Time estimation for the human computer computation of a 3 x 3 matrix determinant by cofactor expansion\n",
        "\n",
        " Write a 3 x 3 matrix with the first element as your list number Mod 10 and the rest row by row 1,2,3,...9 skipimg the first element, by example if youir list number is 12, your list number Mod 10 is 2 and the matrix is\n",
        "$$A = \\left[\n",
        "  \\begin{array}{ccc}\n",
        "2 & 1 & 3\\\\\n",
        "4 & 5 & 6\\\\\n",
        "7 & 8 & 9\\\\\n",
        "\\end{array}\n",
        "\\right]\n",
        "$$\n",
        "Use a chronometer like http://online-stopwatch.chronme.com/ to estimate the time to compute the determinant by using the procedure in the follo wing exmaple (https://people.math.carleton.ca/~kcheung/math/notes/MATH1107/07/07_cofactor_expansion.html):<br />  \n",
        "Let\n",
        "$$A = \\begin{bmatrix} 5 & 1 & 2\\\\ 3 & 4 & 6\\\\ 7 & 8 & 9 \\end{bmatrix}$$\n",
        "<br />\n",
        "\n",
        "\n",
        "we compute $\\det(A)$ by expanding along row $2$ as\n",
        "<br /> <br />\n",
        "\n",
        "Vamos a calcular el determinante usando la expansión por cofactores a lo largo de la segunda fila.\n",
        "\n",
        "$$\n",
        "\\det(A) = (-1)^{2+1}A_{2,1}\\det(A(2 \\mid 1)) + (-1)^{2+2}A_{2,2}\\det(A(2 \\mid 2)) + (-1)^{2+3}A_{2,3}\\det(A(2 \\mid 3))\n",
        "$$\n",
        "\n",
        "Aquí,\n",
        "\n",
        "$$A_{2,1} = 4 $$\n",
        "$$ A_{2,2} = 5 $$\n",
        "$$ A_{2,3} = 6 $$\n",
        "\n",
        "Los menores principales son:\n",
        "\n",
        "1. Para A( 2 | 1 ) :\n",
        "\n",
        "$$\n",
        "A(2 \\mid 1) = \\begin{pmatrix} 1 & 3 \\\\ 8 & 9 \\end{pmatrix}\n",
        "$$\n",
        "\n",
        "$$\n",
        "\\det(A(2 \\mid 1)) = 1 \\cdot 9 - 3 \\cdot 8 = 9 - 24 = -15\n",
        "$$\n",
        "\n",
        "2. Para  A( 2 | 2 ) :\n",
        "\n",
        "$$\n",
        "A(2 \\mid 2) = \\begin{pmatrix} 2 & 3 \\\\ 7 & 9 \\end{pmatrix}\n",
        "$$\n",
        "\n",
        "$$\n",
        "\\det(A(2 \\mid 2)) = 2 \\cdot 9 - 3 \\cdot 7 = 18 - 21 = -3\n",
        "$$\n",
        "\n",
        "3. Para A( 2 | 3 ):\n",
        "\n",
        "$$\n",
        "A(2 \\mid 3) = \\begin{pmatrix} 2 & 1 \\\\ 7 & 8 \\end{pmatrix}\n",
        "$$\n",
        "\n",
        "$$\n",
        "\\det(A(2 \\mid 3)) = 2 \\cdot 8 - 1 \\cdot 7 = 16 - 7 = 9\n",
        "$$\n",
        "\n",
        "Sustituimos estos valores en la fórmula de expansión por cofactores:\n",
        "<br />\n",
        "<br />\n",
        "\\begin{aligned}\n",
        "\\det(A) &= (-1)^{2+1} \\cdot 4 \\cdot (-15) + (-1)^{2+2} \\cdot 5 \\cdot (-3) + (-1)^{2+3} \\cdot 6 \\cdot 9 \\\\\n",
        "&= -1 \\cdot 4 \\cdot (-15) + 1 \\cdot 5 \\cdot (-3) - 1 \\cdot 6 \\cdot 9 \\\\\n",
        "&= 4 \\cdot 15 - 5 \\cdot 3 - 6 \\cdot 9 \\\\\n",
        "&= 60 - 15 - 54 \\\\\n",
        "&= 60 - 69 \\\\\n",
        "&= -9\n",
        "\\end{aligned}\n",
        "\n",
        "Por lo tanto, el determinante de la matriz \\( A \\) es: -9\n",
        "\n",
        "\n",
        "\n",
        "<br />\n",
        "\n",
        "3. Report the time at [LABCramer](https://docs.google.com/spreadsheets/d/1JNUbuj3QHcyPmp8i6kNreUFucj2mOvKHkCFHHy7zfws/edit?usp=sharing)\n",
        "4. Report the value of the determinant at [LABCramer](https://docs.google.com/spreadsheets/d/1JNUbuj3QHcyPmp8i6kNreUFucj2mOvKHkCFHHy7zfws/edit?usp=sharing)\n"
      ],
      "metadata": {
        "id": "__brdhGadAXY"
      }
    },
    {
      "cell_type": "markdown",
      "source": [],
      "metadata": {
        "id": "9OyKLqgO9auL"
      }
    },
    {
      "cell_type": "markdown",
      "source": [
        "### My list number is 15 matrix:\n",
        "$$A = \\left[\n",
        "  \\begin{array}{ccc}\n",
        "5 & 1 & 2\\\\\n",
        "3 & 4 & 6\\\\\n",
        "7 & 8 & 9\\\\\n",
        "\\end{array}\n",
        "\\right]\n",
        "$$"
      ],
      "metadata": {
        "id": "mJ-Ig2kr6t5_"
      }
    },
    {
      "cell_type": "markdown",
      "source": [
        "![image.png](data:image/png;base64,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)"
      ],
      "metadata": {
        "id": "nF4N0YzS80As"
      }
    },
    {
      "cell_type": "markdown",
      "source": [
        "The determinant is -53\n"
      ],
      "metadata": {
        "id": "O_bPJDux7EDl"
      }
    }
  ]
}